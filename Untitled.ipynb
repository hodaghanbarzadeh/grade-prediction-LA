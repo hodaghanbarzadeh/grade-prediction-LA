{
 "cells": [
  {
   "cell_type": "code",
   "execution_count": 1,
   "metadata": {},
   "outputs": [],
   "source": [
    "\n",
    "import pandas as pd"
   ]
  },
  {
   "cell_type": "code",
   "execution_count": 2,
   "metadata": {},
   "outputs": [],
   "source": [
    "dataset = pd.read_csv('./static/data/dataset_stu.csv')"
   ]
  },
  {
   "cell_type": "code",
   "execution_count": 3,
   "metadata": {},
   "outputs": [
    {
     "name": "stdout",
     "output_type": "stream",
     "text": [
      "    sex  age  traveltime  studytime  failures schoolsup famsup paid  \\\n",
      "0     F   18           2          2         0       yes     no   no   \n",
      "1     F   17           1          2         0        no    yes   no   \n",
      "2     F   15           1          2         0       yes     no   no   \n",
      "3     F   15           1          3         0        no    yes   no   \n",
      "4     F   16           1          2         0        no    yes   no   \n",
      "..   ..  ...         ...        ...       ...       ...    ...  ...   \n",
      "644   F   19           1          3         1        no     no   no   \n",
      "645   F   18           1          2         0        no    yes   no   \n",
      "646   F   18           2          2         0        no     no   no   \n",
      "647   M   17           2          1         0        no     no   no   \n",
      "648   M   18           3          1         0        no     no   no   \n",
      "\n",
      "    activities higher internet  famrel  freetime  goout  health  absences  \\\n",
      "0           no    yes       no       4         3      4       3         4   \n",
      "1           no    yes      yes       5         3      3       3         2   \n",
      "2           no    yes      yes       4         3      2       3         6   \n",
      "3          yes    yes      yes       3         2      2       5         0   \n",
      "4           no    yes       no       4         3      2       5         0   \n",
      "..         ...    ...      ...     ...       ...    ...     ...       ...   \n",
      "644        yes    yes      yes       5         4      2       5         4   \n",
      "645         no    yes      yes       4         3      4       1         4   \n",
      "646        yes    yes       no       1         1      1       5         6   \n",
      "647         no    yes      yes       2         4      5       2         6   \n",
      "648         no    yes      yes       4         4      1       5         4   \n",
      "\n",
      "     grade  \n",
      "0       11  \n",
      "1       11  \n",
      "2       12  \n",
      "3       14  \n",
      "4       13  \n",
      "..     ...  \n",
      "644     10  \n",
      "645     16  \n",
      "646      0  \n",
      "647     10  \n",
      "648     11  \n",
      "\n",
      "[649 rows x 17 columns]\n"
     ]
    }
   ],
   "source": [
    "print(dataset)"
   ]
  },
  {
   "cell_type": "code",
   "execution_count": 4,
   "metadata": {},
   "outputs": [],
   "source": [
    " valuesOfField1= dataset['sex'].unique()"
   ]
  },
  {
   "cell_type": "code",
   "execution_count": 5,
   "metadata": {},
   "outputs": [
    {
     "name": "stdout",
     "output_type": "stream",
     "text": [
      "['F' 'M']\n"
     ]
    }
   ],
   "source": [
    "print(valuesOfField1)"
   ]
  },
  {
   "cell_type": "code",
   "execution_count": 7,
   "metadata": {},
   "outputs": [
    {
     "data": {
      "text/plain": [
       "'2'"
      ]
     },
     "execution_count": 7,
     "metadata": {},
     "output_type": "execute_result"
    }
   ],
   "source": [
    "str('2')"
   ]
  },
  {
   "cell_type": "code",
   "execution_count": null,
   "metadata": {},
   "outputs": [],
   "source": []
  }
 ],
 "metadata": {
  "kernelspec": {
   "display_name": "Python 3",
   "language": "python",
   "name": "python3"
  },
  "language_info": {
   "codemirror_mode": {
    "name": "ipython",
    "version": 3
   },
   "file_extension": ".py",
   "mimetype": "text/x-python",
   "name": "python",
   "nbconvert_exporter": "python",
   "pygments_lexer": "ipython3",
   "version": "3.8.0"
  }
 },
 "nbformat": 4,
 "nbformat_minor": 4
}
